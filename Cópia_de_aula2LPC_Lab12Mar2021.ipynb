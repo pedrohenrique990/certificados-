{
  "nbformat": 4,
  "nbformat_minor": 0,
  "metadata": {
    "colab": {
      "name": "Cópia de aula2LPC-Lab12Mar2021.ipynb",
      "provenance": [],
      "include_colab_link": true
    },
    "kernelspec": {
      "name": "python3",
      "display_name": "Python 3"
    }
  },
  "cells": [
    {
      "cell_type": "markdown",
      "metadata": {
        "id": "view-in-github",
        "colab_type": "text"
      },
      "source": [
        "<a href=\"https://colab.research.google.com/github/pedrohenrique990/certificados-/blob/main/C%C3%B3pia_de_aula2LPC_Lab12Mar2021.ipynb\" target=\"_parent\"><img src=\"https://colab.research.google.com/assets/colab-badge.svg\" alt=\"Open In Colab\"/></a>"
      ]
    },
    {
      "cell_type": "code",
      "metadata": {
        "colab": {
          "base_uri": "https://localhost:8080/"
        },
        "id": "XJj3RrshUNFL",
        "outputId": "2eb2a197-4a45-4f4f-b326-f1790dd0bca8"
      },
      "source": [
        "# ETE PORTO DIGITAL\n",
        "# LPC 2021 - Introdução à Python\n",
        "# Prof. Cloves Rocha\n",
        "# Estudante:Pedro Henrique Souza e Maria Gabrielle Silva De Melo\n",
        " \n",
        "#VARIAVEIS\n",
        "PG = 'Olá Pedro e Gabrielle!'\n",
        "print(PG)"
      ],
      "execution_count": null,
      "outputs": [
        {
          "output_type": "stream",
          "text": [
            "Olá Pedro e Gabrielle!\n"
          ],
          "name": "stdout"
        }
      ]
    }
  ]
}